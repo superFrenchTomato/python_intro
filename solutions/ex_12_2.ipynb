{
 "cells": [
  {
   "cell_type": "markdown",
   "metadata": {},
   "source": [
    "# Solution to exercise 1.3.2\n",
    "\n",
    "- Generalise the code written for exercise 1.1.3 for finding which European countries have the largest population in 1952 and 2007 by creating a function that finds which country on a defined continent has the largest population for a given year. Provide default values for certain arguments."
   ]
  },
  {
   "cell_type": "code",
   "execution_count": null,
   "metadata": {},
   "outputs": [],
   "source": [
    "pop_1957 = 0\n",
    "largest_eu_country_1957 = ''\n",
    "\n",
    "pop_2007 = 0\n",
    "largest_eu_country_2007 = ''\n",
    "\n",
    "with open('../data/gapminder.csv') as f:\n",
    "    for line in f:\n",
    "        data = line.strip().split(',')\n",
    "        if data[1] == \"Europe\":\n",
    "            if data[2] == \"1957\" and int(data[4]) > pop_1957:\n",
    "                pop_1957 = int(data[4])\n",
    "                largest_eu_country_1957 = data[0]\n",
    "            if data[2] == \"2007\" and int(data[4]) > pop_2007:\n",
    "                pop_2007 = int(data[4])\n",
    "                largest_eu_country_2007 = data[0]\n",
    "            \n",
    "print(largest_eu_country_1957, pop_1957)\n",
    "print(largest_eu_country_2007, pop_2007)"
   ]
  },
  {
   "cell_type": "code",
   "execution_count": null,
   "metadata": {},
   "outputs": [],
   "source": [
    "import statistics as stats\n",
    "import csv\n",
    "\n",
    "def largest_country_by_continent_and_year(gapminder_filepath, continent='Europe', year='1952'):\n",
    "    \"\"\"\n",
    "    Returns the largest country of the selected continent for a given year.\n",
    "\n",
    "    gapminder_filepath --- gapminder file path with multi-continent and multi-year data\n",
    "    continent --- continent for which data is extracted\n",
    "    year --- year for which data is extracted\n",
    "    \"\"\"\n",
    "    pop = 0\n",
    "    largest_country = ''\n",
    "    with open(gapminder_filepath) as f:\n",
    "        reader = csv.DictReader(f, delimiter = \",\")\n",
    "        for data in reader: \n",
    "            if data['continent'] == continent and data['year'] == year:\n",
    "                if int(data['pop']) > pop:\n",
    "                    pop = int(data['pop'])\n",
    "                    largest_country = data['country']\n",
    "    print(continent, 'largest country in', year)\n",
    "    return largest_country, pop"
   ]
  },
  {
   "cell_type": "code",
   "execution_count": null,
   "metadata": {},
   "outputs": [],
   "source": [
    "import os       \n",
    "largest_country = largest_country_by_continent_and_year(os.path.join('..', 'data', 'gapminder.csv'))\n",
    "print(largest_country)"
   ]
  },
  {
   "cell_type": "code",
   "execution_count": null,
   "metadata": {},
   "outputs": [],
   "source": [
    "import os       \n",
    "largest_country = largest_country_by_continent_and_year(os.path.join('..', 'data', 'gapminder.csv'), 'Africa')\n",
    "print(largest_country)"
   ]
  },
  {
   "cell_type": "code",
   "execution_count": null,
   "metadata": {},
   "outputs": [],
   "source": [
    "import os       \n",
    "largest_country = largest_country_by_continent_and_year(os.path.join('..', 'data', 'gapminder.csv'), 'Africa', '2007')\n",
    "print(largest_country)"
   ]
  },
  {
   "cell_type": "code",
   "execution_count": null,
   "metadata": {},
   "outputs": [],
   "source": [
    "import os       \n",
    "largest_country = largest_country_by_continent_and_year(os.path.join('..', 'data', 'gapminder.csv'), 'Asia')\n",
    "print(largest_country)"
   ]
  }
 ],
 "metadata": {
  "kernelspec": {
   "display_name": "Python 3",
   "language": "python",
   "name": "python3"
  },
  "language_info": {
   "codemirror_mode": {
    "name": "ipython",
    "version": 3
   },
   "file_extension": ".py",
   "mimetype": "text/x-python",
   "name": "python",
   "nbconvert_exporter": "python",
   "pygments_lexer": "ipython3",
   "version": "3.5.2"
  }
 },
 "nbformat": 4,
 "nbformat_minor": 2
}
