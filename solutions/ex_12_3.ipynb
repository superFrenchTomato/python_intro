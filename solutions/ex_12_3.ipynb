{
 "cells": [
  {
   "cell_type": "markdown",
   "metadata": {},
   "source": [
    "# Solution to exercise 1.3.3\n",
    "\n",
    "- Create a module with the two functions written so far to analyse the Gapminder dataset. Import the module, and call these functions multiple times with different arguments.\n",
    "- Create a new function in this module that returns the average life expectancy on a given continent for a given year. Call this function with different arguments and compare the results."
   ]
  },
  {
   "cell_type": "markdown",
   "metadata": {},
   "source": [
    "Code to paste into the `gapminder.py` module:\n",
    "\n",
    "```\n",
    "import statistics as stats\n",
    "import csv\n",
    "\n",
    "def gdp_stats_by_continent_and_year(gapminder_filepath, continent='Europe', year='1952'):\n",
    "    \"\"\"\n",
    "    Returns a dictionary of the average, median and standard deviation of GDP per capita \n",
    "    for all countries of the selected continent for a given year.\n",
    "\n",
    "    gapminder_filepath --- gapminder file path with multi-continent and multi-year data\n",
    "    continent --- continent for which data is extracted\n",
    "    year --- year for which data is extracted\n",
    "    \"\"\"\n",
    "    gdppercap = []\n",
    "    with open(gapminder_filepath) as f:\n",
    "        reader = csv.DictReader(f, delimiter = \",\")\n",
    "        for data in reader: \n",
    "            if data['continent'] == continent and data['year'] == year:\n",
    "                gdppercap.append(float(data['gdpPercap']))\n",
    "    print(continent, 'GDP per Capita in', year)\n",
    "    return {'mean': stats.mean(gdppercap), 'median': stats.median(gdppercap), 'stdev': stats.stdev(gdppercap)}\n",
    "\n",
    "\n",
    "def largest_country_by_continent_and_year(gapminder_filepath, continent='Europe', year='1952'):\n",
    "    \"\"\"\n",
    "    Returns the largest country of the selected continent for a given year.\n",
    "\n",
    "    gapminder_filepath --- gapminder file path with multi-continent and multi-year data\n",
    "    continent --- continent for which data is extracted\n",
    "    year --- year for which data is extracted\n",
    "    \"\"\"\n",
    "    pop = 0\n",
    "    largest_country = ''\n",
    "    with open(gapminder_filepath) as f:\n",
    "        reader = csv.DictReader(f, delimiter = \",\")\n",
    "        for data in reader: \n",
    "            if data['continent'] == continent and data['year'] == year:\n",
    "                if int(data['pop']) > pop:\n",
    "                    pop = int(data['pop'])\n",
    "                    largest_country = data['country']\n",
    "    print(continent, 'largest country in', year)\n",
    "    return largest_country, pop\n",
    "```"
   ]
  },
  {
   "cell_type": "code",
   "execution_count": null,
   "metadata": {},
   "outputs": [],
   "source": [
    "import gapminder"
   ]
  },
  {
   "cell_type": "code",
   "execution_count": null,
   "metadata": {},
   "outputs": [],
   "source": [
    "help(gapminder)"
   ]
  },
  {
   "cell_type": "code",
   "execution_count": null,
   "metadata": {},
   "outputs": [],
   "source": [
    "help(gapminder.gdp_stats_by_continent_and_year)"
   ]
  },
  {
   "cell_type": "code",
   "execution_count": null,
   "metadata": {},
   "outputs": [],
   "source": [
    "import os\n",
    "gapminder_filepath = os.path.join('..', 'data', 'gapminder.csv')"
   ]
  },
  {
   "cell_type": "code",
   "execution_count": null,
   "metadata": {},
   "outputs": [],
   "source": [
    "largest_country = gapminder.largest_country_by_continent_and_year(gapminder_filepath, 'Asia')\n",
    "print(largest_country)"
   ]
  },
  {
   "cell_type": "code",
   "execution_count": null,
   "metadata": {},
   "outputs": [],
   "source": [
    "gdp_stats = gapminder.gdp_stats_by_continent_and_year(gapminder_filepath, 'Asia')\n",
    "print(gdp_stats)"
   ]
  },
  {
   "cell_type": "code",
   "execution_count": null,
   "metadata": {},
   "outputs": [],
   "source": [
    "largest_country = gapminder.largest_country_by_continent_and_year(gapminder_filepath, 'Africa')\n",
    "print(largest_country)"
   ]
  },
  {
   "cell_type": "code",
   "execution_count": null,
   "metadata": {},
   "outputs": [],
   "source": [
    "gdp_stats = gapminder.gdp_stats_by_continent_and_year(gapminder_filepath, 'Africa')\n",
    "print(gdp_stats)"
   ]
  },
  {
   "cell_type": "markdown",
   "metadata": {},
   "source": [
    "New function to add into the module `gapminder.py`:\n",
    "\n",
    "```\n",
    "import csv\n",
    "import statistics as stats\n",
    "def avg_life_exp_by_continent_and_year(gapminder_filepath, continent='Europe', year='1952'):\n",
    "    \"\"\"\n",
    "    Returns the average life expectancy \n",
    "    for all countries of the selected continent for a given year.\n",
    "\n",
    "    gapminder_filepath --- gapminder file path with multi-continent and multi-year data\n",
    "    continent --- continent for which data is extracted\n",
    "    year --- year for which data is extracted\n",
    "    \"\"\"\n",
    "    life_exp = []\n",
    "    with open(gapminder_filepath) as f:\n",
    "        reader = csv.DictReader(f, delimiter = \",\")\n",
    "        for data in reader: \n",
    "            if data['continent'] == continent and data['year'] == year:\n",
    "                life_exp.append(float(data['lifeExp']))\n",
    "    print(continent, 'life expectancy', year)\n",
    "    return stats.mean(life_exp)\n",
    "```"
   ]
  },
  {
   "cell_type": "markdown",
   "metadata": {},
   "source": [
    "**BEWARE!** When using Jupyter Notebooks and modifying a module, you MUST restart the kernel of the notebook to have these changes taken into account."
   ]
  },
  {
   "cell_type": "code",
   "execution_count": null,
   "metadata": {},
   "outputs": [],
   "source": [
    "import gapminder"
   ]
  },
  {
   "cell_type": "code",
   "execution_count": null,
   "metadata": {},
   "outputs": [],
   "source": [
    "import os\n",
    "gapminder_filepath = os.path.join('..', 'data', 'gapminder.csv')"
   ]
  },
  {
   "cell_type": "code",
   "execution_count": null,
   "metadata": {},
   "outputs": [],
   "source": [
    "avg_life_exp = gapminder.avg_life_exp_by_continent_and_year(gapminder_filepath, 'Africa')\n",
    "print(avg_life_exp)"
   ]
  },
  {
   "cell_type": "code",
   "execution_count": null,
   "metadata": {},
   "outputs": [],
   "source": [
    "avg_life_exp = gapminder.avg_life_exp_by_continent_and_year(gapminder_filepath, 'Africa', '2007')\n",
    "print(avg_life_exp)"
   ]
  },
  {
   "cell_type": "code",
   "execution_count": null,
   "metadata": {},
   "outputs": [],
   "source": [
    "avg_life_exp = gapminder.avg_life_exp_by_continent_and_year(gapminder_filepath, 'Europe')\n",
    "print(avg_life_exp)"
   ]
  },
  {
   "cell_type": "code",
   "execution_count": null,
   "metadata": {},
   "outputs": [],
   "source": [
    "avg_life_exp = gapminder.avg_life_exp_by_continent_and_year(gapminder_filepath, 'Europe', '2007')\n",
    "print(avg_life_exp)"
   ]
  }
 ],
 "metadata": {
  "kernelspec": {
   "display_name": "Python 3",
   "language": "python",
   "name": "python3"
  },
  "language_info": {
   "codemirror_mode": {
    "name": "ipython",
    "version": 3
   },
   "file_extension": ".py",
   "mimetype": "text/x-python",
   "name": "python",
   "nbconvert_exporter": "python",
   "pygments_lexer": "ipython3",
   "version": "3.6.4"
  }
 },
 "nbformat": 4,
 "nbformat_minor": 2
}
