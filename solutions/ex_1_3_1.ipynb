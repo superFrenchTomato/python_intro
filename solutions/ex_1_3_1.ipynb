{
 "cells": [
  {
   "cell_type": "markdown",
   "metadata": {},
   "source": [
    "# Solution to exercise 1.3.1\n",
    "\n",
    "- Write a function that takes two arguments and returns their mean. \n",
    "    - Give your function a meaningful name, and a good documentation. \n",
    "    - Call your function multiple times with different values, and once using the keyword arguments with their associated values.\n",
    "    - Print the result of these different function calls."
   ]
  },
  {
   "cell_type": "code",
   "execution_count": null,
   "metadata": {},
   "outputs": [],
   "source": [
    "def mean_of_two_values(value1, value2):\n",
    "    \"\"\"\n",
    "    Returns the mean of the two arguments.\n",
    "    \n",
    "    value1 --- first value \n",
    "    value2 --- second value\n",
    "    \"\"\"\n",
    "    print('calculating the mean of', value1, 'and', value2)\n",
    "    return (value1 + value2)/2"
   ]
  },
  {
   "cell_type": "code",
   "execution_count": null,
   "metadata": {},
   "outputs": [],
   "source": [
    "mean_of_variables = mean_of_two_values(2, 5)\n",
    "print(mean_of_variables)"
   ]
  },
  {
   "cell_type": "code",
   "execution_count": null,
   "metadata": {},
   "outputs": [],
   "source": [
    "mean_of_variables = mean_of_two_values(-6, 5)\n",
    "print(mean_of_variables)"
   ]
  },
  {
   "cell_type": "code",
   "execution_count": null,
   "metadata": {},
   "outputs": [],
   "source": [
    "mean_of_variables = mean_of_two_values('4', 5)\n",
    "print(mean_of_variables)"
   ]
  },
  {
   "cell_type": "code",
   "execution_count": null,
   "metadata": {},
   "outputs": [],
   "source": [
    "mean_of_variables = mean_of_two_values(value2=2, value1=5)\n",
    "print(mean_of_variables)"
   ]
  },
  {
   "cell_type": "code",
   "execution_count": null,
   "metadata": {},
   "outputs": [],
   "source": [
    "results = mean_and_median([2, 5])\n",
    "print(results)"
   ]
  },
  {
   "cell_type": "markdown",
   "metadata": {},
   "source": [
    "**BEWARE** Do not use [Python built-in names](https://docs.python.org/3/library/functions.html#built-in-funcs) for your variables and functions otherwise you will change their behaviour."
   ]
  }
 ],
 "metadata": {
  "kernelspec": {
   "display_name": "Python 3",
   "language": "python",
   "name": "python3"
  },
  "language_info": {
   "codemirror_mode": {
    "name": "ipython",
    "version": 3
   },
   "file_extension": ".py",
   "mimetype": "text/x-python",
   "name": "python",
   "nbconvert_exporter": "python",
   "pygments_lexer": "ipython3",
   "version": "3.7.3"
  }
 },
 "nbformat": 4,
 "nbformat_minor": 2
}
