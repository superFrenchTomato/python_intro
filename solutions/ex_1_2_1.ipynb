{
 "cells": [
  {
   "cell_type": "markdown",
   "metadata": {},
   "source": [
    "# Solution to exercice 1.2.1\n",
    "\n",
    "\n",
    "- Read data from the file `data/gapminder.csv`.\n",
    "- Find which European countries have the largest population in 1957 and 2007."
   ]
  },
  {
   "cell_type": "code",
   "execution_count": null,
   "metadata": {},
   "outputs": [],
   "source": [
    "# Step 1: read data\n",
    "with open('../data/gapminder.csv') as f:\n",
    "    for line in f:\n",
    "        data = line.strip().split(',')\n",
    "        print(data)"
   ]
  },
  {
   "cell_type": "code",
   "execution_count": null,
   "metadata": {},
   "outputs": [],
   "source": [
    "# Step 2: find European countries\n",
    "with open('../data/gapminder.csv') as f:\n",
    "    for line in f:\n",
    "        data = line.strip().split(',')\n",
    "        if data[1] == \"Europe\":\n",
    "            print(data)"
   ]
  },
  {
   "cell_type": "code",
   "execution_count": null,
   "metadata": {},
   "outputs": [],
   "source": [
    "# Step 3: find population for all European countries for 1957\n",
    "with open('../data/gapminder.csv') as f:\n",
    "    for line in f:\n",
    "        data = line.strip().split(',')\n",
    "        if data[1] == \"Europe\" and data[2] == \"1957\":\n",
    "            print(data)"
   ]
  },
  {
   "cell_type": "code",
   "execution_count": null,
   "metadata": {},
   "outputs": [],
   "source": [
    "# Step 4: find European country with the largest population in 1957\n",
    "pop_1957 = 0\n",
    "largest_eu_country_1957 = ''\n",
    "with open('../data/gapminder.csv') as f:\n",
    "    for line in f:\n",
    "        data = line.strip().split(',')\n",
    "        if data[1] == \"Europe\" and data[2] == \"1957\":\n",
    "            if int(data[4]) > pop_1957:\n",
    "                pop_1957 = int(data[4])\n",
    "                largest_eu_country_1957 = data[0]\n",
    "            \n",
    "print(largest_eu_country_1957, pop_1957)"
   ]
  },
  {
   "cell_type": "code",
   "execution_count": null,
   "metadata": {},
   "outputs": [],
   "source": [
    "# Step 5: find European country with the largest population in 2007\n",
    "pop_2007 = 0\n",
    "largest_eu_country_2007 = ''\n",
    "with open('../data/gapminder.csv') as f:\n",
    "    for line in f:\n",
    "        data = line.strip().split(',')\n",
    "        if data[1] == \"Europe\" and data[2] == \"2007\":\n",
    "            if int(data[4]) > pop_2007:\n",
    "                pop_2007 = int(data[4])\n",
    "                largest_eu_country_2007 = data[0]\n",
    "            \n",
    "print(largest_eu_country_2007, pop_2007)  "
   ]
  },
  {
   "cell_type": "code",
   "execution_count": null,
   "metadata": {},
   "outputs": [],
   "source": [
    "# Step 6: combine all steps\n",
    "pop_1957 = 0\n",
    "largest_eu_country_1957 = ''\n",
    "\n",
    "pop_2007 = 0\n",
    "largest_eu_country_2007 = ''\n",
    "\n",
    "with open('../data/gapminder.csv') as f:\n",
    "    for line in f:\n",
    "        data = line.strip().split(',')\n",
    "        if data[1] == \"Europe\":\n",
    "            if data[2] == \"1957\" and int(data[4]) > pop_1957:\n",
    "                pop_1957 = int(data[4])\n",
    "                largest_eu_country_1957 = data[0]\n",
    "            if data[2] == \"2007\" and int(data[4]) > pop_2007:\n",
    "                pop_2007 = int(data[4])\n",
    "                largest_eu_country_2007 = data[0]\n",
    "            \n",
    "print(largest_eu_country_1957, pop_1957)\n",
    "print(largest_eu_country_2007, pop_2007)"
   ]
  },
  {
   "cell_type": "code",
   "execution_count": null,
   "metadata": {},
   "outputs": [],
   "source": [
    "# Step 7: get all the gdpPerCap values for Europe in 1962 and put them in an array.\n",
    "pop_1957 = 0\n",
    "largest_eu_country_1957 = ''\n",
    "\n",
    "pop_2007 = 0\n",
    "largest_eu_country_2007 = ''\n",
    "\n",
    "gdp_europe_1962 = list()\n",
    "with open('../data/gapminder.csv') as f:\n",
    "    for line in f:\n",
    "        data = line.strip().split(',')\n",
    "        if data[1] == \"Europe\":\n",
    "            if data[2] == \"1957\" and int(data[4]) > pop_1957:\n",
    "                pop_1957 = int(data[4])\n",
    "                largest_eu_country_1957 = data[0]\n",
    "            if data[2] == \"2007\" and int(data[4]) > pop_2007:\n",
    "                pop_2007 = int(data[4])\n",
    "                largest_eu_country_2007 = data[0]\n",
    "            if data[2] == \"1962\" : \n",
    "                gdp_europe_1962.append(float(data[5]))\n",
    "            \n",
    "print(largest_eu_country_1957, pop_1957)\n",
    "print(largest_eu_country_2007, pop_2007)"
   ]
  },
  {
   "cell_type": "code",
   "execution_count": null,
   "metadata": {},
   "outputs": [],
   "source": [
    "# Step 8: import the statistics module and use it to calculate the mean gdp per capita in Europe in 1962.\n",
    "import statistics\n",
    "\n",
    "pop_1957 = 0\n",
    "largest_eu_country_1957 = ''\n",
    "\n",
    "pop_2007 = 0\n",
    "largest_eu_country_2007 = ''\n",
    "\n",
    "gdp_europe_1962 = list()\n",
    "with open('../data/gapminder.csv') as f:\n",
    "    for line in f:\n",
    "        data = line.strip().split(',')\n",
    "        if data[1] == \"Europe\":\n",
    "            if data[2] == \"1957\" and int(data[4]) > pop_1957:\n",
    "                pop_1957 = int(data[4])\n",
    "                largest_eu_country_1957 = data[0]\n",
    "            if data[2] == \"2007\" and int(data[4]) > pop_2007:\n",
    "                pop_2007 = int(data[4])\n",
    "                largest_eu_country_2007 = data[0]\n",
    "            if data[2] == \"1962\" : \n",
    "                gdp_europe_1962.append(float(data[5]))\n",
    "            \n",
    "print(largest_eu_country_1957, pop_1957)\n",
    "print(largest_eu_country_2007, pop_2007)\n",
    "\n",
    "mean = statistics.mean(gdp_europe_1962)\n",
    "print(\"Gdp per capita mean (europe, 1962) is {0}\".format(mean))"
   ]
  }
 ],
 "metadata": {
  "kernelspec": {
   "display_name": "Python 3",
   "language": "python",
   "name": "python3"
  },
  "language_info": {
   "codemirror_mode": {
    "name": "ipython",
    "version": 3
   },
   "file_extension": ".py",
   "mimetype": "text/x-python",
   "name": "python",
   "nbconvert_exporter": "python",
   "pygments_lexer": "ipython3",
   "version": "3.7.3"
  }
 },
 "nbformat": 4,
 "nbformat_minor": 2
}
