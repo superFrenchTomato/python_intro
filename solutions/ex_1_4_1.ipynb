{
 "cells": [
  {
   "cell_type": "markdown",
   "metadata": {},
   "source": [
    "# Solution to exercise 1.4.1\n",
    "\n",
    "Re-use the GapMinder dataset to plot, in Jupyter using Matplotlib, a scatter plot of world life expectancy against GDP per capita for 1952 and 2007. Add a title, axis labels and legend to your figure."
   ]
  },
  {
   "cell_type": "code",
   "execution_count": null,
   "metadata": {},
   "outputs": [],
   "source": [
    "%matplotlib inline\n",
    "\n",
    "import os\n",
    "import matplotlib.pyplot as plt\n",
    "import seaborn as sns\n",
    "\n",
    "sns.set_style('darkgrid')\n",
    "sns.set_context('talk')\n",
    "\n",
    "gapminder_path = os.path.join('..', 'data', 'gapminder.csv')\n",
    "\n",
    "life_exp_1952 = list()\n",
    "life_exp_2007 = list()\n",
    "gdp_1952 = list()\n",
    "gdp_2007 = list()\n",
    "\n",
    "with open(gapminder_path) as f : \n",
    "    for line in f : \n",
    "        \n",
    "        country,continent,year,life_exp,pop,gdp_per_cap = line.strip().split(\",\")\n",
    "        if country == \"country\" : \n",
    "            continue\n",
    "\n",
    "        if year == \"1952\" : \n",
    "            life_exp_1952.append(float(life_exp))\n",
    "            gdp_1952.append(float(gdp_per_cap))\n",
    "        elif year == \"2007\" : \n",
    "            life_exp_2007.append(float(life_exp))\n",
    "            gdp_2007.append(float(gdp_per_cap))\n",
    "\n",
    "# scatter plots\n",
    "plt.xlabel('Life expectancy')\n",
    "plt.ylabel('GDP per capita')\n",
    "plt.title('GapMinder world data over 50 years')\n",
    "plt.scatter(life_exp_1952, gdp_1952, alpha=0.25, label='1952')\n",
    "plt.scatter(life_exp_2007, gdp_2007, alpha=0.25, label='2007')\n",
    "plt.legend()\n",
    "plt.show()\n"
   ]
  }
 ],
 "metadata": {
  "kernelspec": {
   "display_name": "Python 3",
   "language": "python",
   "name": "python3"
  },
  "language_info": {
   "codemirror_mode": {
    "name": "ipython",
    "version": 3
   },
   "file_extension": ".py",
   "mimetype": "text/x-python",
   "name": "python",
   "nbconvert_exporter": "python",
   "pygments_lexer": "ipython3",
   "version": "3.7.3"
  }
 },
 "nbformat": 4,
 "nbformat_minor": 2
}
