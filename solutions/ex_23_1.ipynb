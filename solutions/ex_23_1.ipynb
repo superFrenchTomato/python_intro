{
 "cells": [
  {
   "cell_type": "markdown",
   "metadata": {},
   "source": [
    "# Solution to exercise 2.3.1\n",
    "\n",
    "- Retrieve a FASTA file named `data/sample.fa` using BioPython and answer the following questions:\n",
    "  - How many sequences are in the file?\n",
    "  - What are the IDs and the lengths of the longest and the shortest sequences?\n",
    "  - Select sequences longer than 500bp. What is the average length of these sequences?\n",
    "  - Calculate and print the percentage of GC in each of the sequences.\n",
    "  - Write the newly created sequences into a FASTA file named `long_sequences.fa` "
   ]
  },
  {
   "cell_type": "code",
   "execution_count": null,
   "metadata": {},
   "outputs": [],
   "source": [
    "from Bio import SeqIO\n",
    "\n",
    "# read the FASTA file named data/sample.fa\n",
    "seq_records = list(SeqIO.parse('../data/sample.fa', 'fasta'))\n",
    "\n",
    "# find the number of sequences present in the file\n",
    "num_seq = len(seq_records)\n",
    "print('Total number of sequences:', num_seq)"
   ]
  },
  {
   "cell_type": "code",
   "execution_count": null,
   "metadata": {},
   "outputs": [],
   "source": [
    "# find IDs and lengths of the longest and the shortest sequences\n",
    "\n",
    "# Create a Pandas dataframe for storing the Seq objects, their IDs and their sequences\n",
    "import pandas\n",
    "\n",
    "seq_ids = []\n",
    "seq_seqs = []\n",
    "seq_objs = []\n",
    "\n",
    "for seq in seq_records:\n",
    "    seq_ids.append(seq.id)\n",
    "    seq_seqs.append(str(seq.seq))\n",
    "    seq_objs.append(seq)\n",
    "\n",
    "seq_df = pandas.DataFrame({\"id\": seq_ids, \"seq\": seq_seqs, 'seqobj': seq_objs})\n",
    "\n",
    "# Calculate the length of each sequence\n",
    "seq_df['len'] = seq_df['seq'].apply(len)\n",
    "\n",
    "# Find shortest and longest sequence ids\n",
    "shortest = seq_df.sort_values(\"len\", ascending=True).iloc[0]\n",
    "longest = seq_df.sort_values(\"len\", ascending=False).iloc[0]\n",
    "print('Longest sequence is', longest['id'], 'with length', longest['len'], 'bp')\n",
    "print('Shortest sequence is', shortest['id'], 'with length', shortest['len'], 'bp')"
   ]
  },
  {
   "cell_type": "code",
   "execution_count": null,
   "metadata": {},
   "outputs": [],
   "source": [
    "print(seq_df.head())"
   ]
  },
  {
   "cell_type": "code",
   "execution_count": null,
   "metadata": {},
   "outputs": [],
   "source": [
    "# Calculate the average length of sequences longer than 500bp\n",
    "# Calculate and print the percentage of GC contents\n",
    "\n",
    "from Bio.SeqUtils import GC\n",
    "\n",
    "# Calculate GC content \n",
    "seq_df['gc'] = seq_df['seq'].apply(GC)\n",
    "\n",
    "# Filter sequences longer the 500bp\n",
    "long_seq_df = seq_df[seq_df['len'] > 500]\n",
    "\n",
    "print('Average length for sequences longer than 500bp is {}'.format(long_seq_df['len'].mean()))\n",
    "print(long_seq_df[['id', 'gc']])"
   ]
  },
  {
   "cell_type": "code",
   "execution_count": null,
   "metadata": {},
   "outputs": [],
   "source": [
    "# Write sequences stored in dataframe as Seq objects in the long_seq_df in a file with 'GenBank' format\n",
    "SeqIO.write(long_seq_df['seqobj'], 'long_sequences.fa', 'fasta')"
   ]
  }
 ],
 "metadata": {
  "kernelspec": {
   "display_name": "Python 3",
   "language": "python",
   "name": "python3"
  },
  "language_info": {
   "codemirror_mode": {
    "name": "ipython",
    "version": 3
   },
   "file_extension": ".py",
   "mimetype": "text/x-python",
   "name": "python",
   "nbconvert_exporter": "python",
   "pygments_lexer": "ipython3",
   "version": "3.6.4"
  }
 },
 "nbformat": 4,
 "nbformat_minor": 2
}
