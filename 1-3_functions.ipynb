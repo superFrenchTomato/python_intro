{
 "cells": [
  {
   "cell_type": "markdown",
   "metadata": {},
   "source": [
    "\n",
    "## Session 1.3: Creating functions to write reusable code\n",
    "\n",
    "- [Building reusable code with functions](#Building-reusable-code-with-functions)\n",
    "    - [Exercise 1.3.1](#Exercise-1.3.1)\n"
   ]
  },
  {
   "cell_type": "markdown",
   "metadata": {},
   "source": [
    "## Building reusable code with functions"
   ]
  },
  {
   "cell_type": "markdown",
   "metadata": {},
   "source": [
    "So far, we’ve used Python to explore and manipulate individual datasets by hand, much like we would do in a spreadsheet. The beauty of using a programming language like Python, though, comes from the ability to automate data processing through the use of loops and functions.\n",
    "\n",
    "Suppose now that we would like to calculate the average GDP per capita, its median and standard deviation for all continents over all the years. We could write specific conditions for each case, and write the same code over again for the different situation but that would be time consuming, error prone and hard to maintain. A more elegant solution would be to create a **reusable tool** that performs this task with minimum input from the user. To do this, we are going to turn the code we’ve already written into a **function**.\n",
    "\n",
    "Functions are reusable, self-contained pieces of code that are called with a single command. They can be designed to accept arguments as input and return values, but they don’t need to do either. Variables declared inside functions only exist while the function is running and if a variable within the function (a local variable) has the same name as a variable somewhere else in the code, the local variable hides but doesn’t overwrite the other.\n",
    "\n",
    "Every method used in Python (for example, **`print()`**) is a function, and the libraries we import (say, `csv` or `os`) are a collection of functions."
   ]
  },
  {
   "cell_type": "markdown",
   "metadata": {},
   "source": [
    "We will first use functions that are housed within the same code that uses them, and then create our own module to write functions that can be used by different programs.\n",
    "\n",
    "### Function definition\n",
    "\n",
    "Functions are declared following this general structure:\n",
    "<img src=\"img/mind_maps/python_function.jpeg\" height=\"300px\" width=900>\n",
    "\n",
    "And now as a markdown that can be run : "
   ]
  },
  {
   "cell_type": "code",
   "execution_count": null,
   "metadata": {},
   "outputs": [],
   "source": [
    "def devide(dividend = 1, divisor = 2):\n",
    "    \"\"\"\n",
    "    Returns the result of the division of dividend by divisor.\n",
    "    \n",
    "    dividend --- the number that is being devided(default value will be 1 if no value is given)\n",
    "    divisor --- the number to devide the dividend with (default value will be 1 if no value is given)\n",
    "    \n",
    "    return --- the sum of the 2 arguments (int).\n",
    "    \"\"\"\n",
    "    return dividend/divisor\n",
    "\n",
    "\n",
    "a_and_b_sum = devide(18,9)\n",
    "print(\"devide = {0}\".format(a_and_b_sum))\n",
    "\n",
    "print(\"Function with default value = {0}\".format(devide()))\n",
    "\n",
    "print(\"Result = {0}\".format(devide(divisor = 5, dividend = 15)))\n",
    "\n",
    "# printing the docstring \n",
    "help(devide)"
   ]
  },
  {
   "cell_type": "markdown",
   "metadata": {},
   "source": [
    "The function declaration starts with the word **`def`**, followed by the function name and any arguments in parenthesis, and ends with a colon. The body of the function is indented just like loops are. If the function returns something when it is called, it includes a **`return`** statement at the end.\n",
    "\n",
    "Once the `return` statement is reached the operation of the function ends, and anything on the return line is passed back as output."
   ]
  },
  {
   "cell_type": "markdown",
   "metadata": {},
   "source": [
    "### Function variable scope\n",
    "\n",
    "If we declare a variable inside the function, it is a local variable only visible within the function, we are therefore unable to access it outside the function:"
   ]
  },
  {
   "cell_type": "code",
   "execution_count": null,
   "metadata": {},
   "outputs": [],
   "source": [
    "def this_is_the_function_name(input_argument1, input_argument2):\n",
    "\n",
    "    # The body of the function is indented\n",
    "    \n",
    "    # This is a variable inside the function\n",
    "    variable_inside_function = '(this is done inside the function!)'\n",
    "\n",
    "    # This function prints the two arguments to screen\n",
    "    print('The function arguments are:', input_argument1, input_argument2, variable_inside_function)\n",
    "    \n",
    "    # And returns their product\n",
    "    return input_argument1 * input_argument2"
   ]
  },
  {
   "cell_type": "code",
   "execution_count": null,
   "metadata": {},
   "outputs": [],
   "source": [
    "product_of_inputs = this_is_the_function_name(5, 2)"
   ]
  },
  {
   "cell_type": "code",
   "execution_count": null,
   "metadata": {},
   "outputs": [],
   "source": [
    "print(variable_inside_function)"
   ]
  },
  {
   "cell_type": "code",
   "execution_count": null,
   "metadata": {},
   "outputs": [],
   "source": [
    "print(product_of_inputs)"
   ]
  },
  {
   "cell_type": "markdown",
   "metadata": {},
   "source": [
    "When a variable is declared both inside and outside the function using the same name, only the value of the outside variable (the global one) is visible and accessible, changing it within the function does not change it outside:"
   ]
  },
  {
   "cell_type": "code",
   "execution_count": null,
   "metadata": {},
   "outputs": [],
   "source": [
    "variable_inside_and_outside_function = 'this is a variable created outside the function'\n",
    "\n",
    "def this_is_the_function_name(input_argument1, input_argument2):\n",
    "\n",
    "    # The body of the function is indented\n",
    "    \n",
    "    # This is a variable inside the function\n",
    "    variable_inside_function = '(this is done inside the function!)'\n",
    "    \n",
    "    # This is a variable created outside and modified inside the function\n",
    "    variable_inside_and_outside_function = 'this is a variable changed inside the function'\n",
    "    print(variable_inside_and_outside_function)\n",
    "\n",
    "    # This function prints the two arguments to screen\n",
    "    print('The function arguments are:', input_argument1, input_argument2, variable_inside_function)\n",
    "    \n",
    "    # And returns their product\n",
    "    return input_argument1 * input_argument2"
   ]
  },
  {
   "cell_type": "markdown",
   "metadata": {},
   "source": [
    "**BEWARE!** When using Jupyter Notebooks and modifying a function, you MUST re-run that cell in order for the changed function to be available to the rest of the code. Nothing will visibly happen when you do this, though, because simply defining a function without calling it doesn’t produce an output. Any cells that use the now-changed functions will also have to be re-run for their output to change."
   ]
  },
  {
   "cell_type": "code",
   "execution_count": null,
   "metadata": {},
   "outputs": [],
   "source": [
    "product_of_inputs = this_is_the_function_name(10, 3)"
   ]
  },
  {
   "cell_type": "code",
   "execution_count": null,
   "metadata": {},
   "outputs": [],
   "source": [
    "print(variable_inside_and_outside_function)"
   ]
  },
  {
   "cell_type": "markdown",
   "metadata": {},
   "source": [
    "## Exercise 1.3.1\n",
    "\n",
    "- Write a function that takes two arguments and returns their mean. \n",
    "    - Give your function a meaningful name, and a good documentation. \n",
    "    - Call your function multiple times with different values, and once using the keyword arguments with their associated values.\n",
    "    - Print the result of these different function calls."
   ]
  },
  {
   "cell_type": "markdown",
   "metadata": {},
   "source": [
    "## Next session:\n",
    "\n",
    "Go to our next notebook: [Session 1.4: Visualisation with matplotlib](1-4_matplotlib.ipynb)"
   ]
  },
  {
   "cell_type": "code",
   "execution_count": null,
   "metadata": {},
   "outputs": [],
   "source": []
  }
 ],
 "metadata": {
  "kernelspec": {
   "display_name": "Python 3",
   "language": "python",
   "name": "python3"
  },
  "language_info": {
   "codemirror_mode": {
    "name": "ipython",
    "version": 3
   },
   "file_extension": ".py",
   "mimetype": "text/x-python",
   "name": "python",
   "nbconvert_exporter": "python",
   "pygments_lexer": "ipython3",
   "version": "3.7.3"
  }
 },
 "nbformat": 4,
 "nbformat_minor": 1
}
