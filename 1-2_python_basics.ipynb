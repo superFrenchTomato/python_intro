{
 "cells": [
  {
   "cell_type": "markdown",
   "metadata": {},
   "source": [
    "## Session 1.2:  Basic Python\n",
    "\n",
    "### Cheat Sheet\n",
    "\n",
    "- [Cheat Sheet](cheat_sheet_basic_python.ipynb)\n",
    "\n",
    "### Variables"
   ]
  },
  {
   "cell_type": "code",
   "execution_count": null,
   "metadata": {},
   "outputs": [],
   "source": [
    "this_is_a_string = \"3\"\n",
    "print(\"this_is_a_string = {0}\".format(this_is_a_string))\n",
    "\n",
    "this_is_an_integer = 3\n",
    "print(\"this_is_an_integer = {0}\".format(this_is_an_integer))\n",
    "\n",
    "this_is_a_string_converted_to_an_integer = int(this_is_an_integer)\n",
    "print(\"this_is_an_integer + this_is_a_string_converted_to_an_integer = {0}\".format(this_is_an_integer + this_is_a_string_converted_to_an_integer))"
   ]
  },
  {
   "cell_type": "markdown",
   "metadata": {},
   "source": [
    "### For loops\n",
    "\n",
    "The **`for` loop** in Python iterates over each item in a collection (such as a list) in the order that they appear in the collection. What this means is that a variable (`colour` in the below example) is set to each item from the collection of values in turn, and each time this happens the indented block of code is executed again."
   ]
  },
  {
   "cell_type": "code",
   "execution_count": null,
   "metadata": {},
   "outputs": [],
   "source": [
    "all_colours = ['red', 'blue', 'green']\n",
    "for colour in all_colours:\n",
    "    print(colour)"
   ]
  },
  {
   "cell_type": "markdown",
   "metadata": {},
   "source": [
    "### Files\n",
    "\n",
    "To read from a file, your program needs to open the file and then read the contents of the file. You can read the entire contents of the file at once, or read the file line by line. The **`with`** statement makes sure the file is closed properly when the program has finished accessing the file.\n",
    "\n",
    "\n",
    "Passing the `'w'` argument to `open()` tells Python you want to write to the file. Be careful; this will erase the contents of the file if it already exists. Passing the `'a'` argument tells Python you want to append to the end of an existing file."
   ]
  },
  {
   "cell_type": "code",
   "execution_count": null,
   "metadata": {},
   "outputs": [],
   "source": [
    "# reading from file\n",
    "with open(\"data/genes.txt\") as f:\n",
    "    for line in f:\n",
    "        print(line.strip())"
   ]
  },
  {
   "cell_type": "code",
   "execution_count": null,
   "metadata": {},
   "outputs": [],
   "source": [
    "# printing only the gene name and the chromosome columns\n",
    "with open(\"data/genes.txt\") as f:\n",
    "    for line in f:\n",
    "        data = line.strip().split()\n",
    "        print(data[0], data[1])"
   ]
  },
  {
   "cell_type": "markdown",
   "metadata": {},
   "source": [
    "### Conditional execution\n",
    "\n",
    "A conditional **`if/elif`** statement is used to specify that some block of code should only be executed if a conditional expression evaluates to `True`, there can be a final **`else`** statement to do something if all of the conditions are `False`.\n",
    "Python uses **indentation** to show which statements are in a block of code. "
   ]
  },
  {
   "cell_type": "code",
   "execution_count": null,
   "metadata": {},
   "outputs": [],
   "source": [
    "# printing only the gene name and its position for chromosome 6\n",
    "with open(\"data/genes.txt\") as f:\n",
    "    for line in f:\n",
    "        data = line.strip().split()\n",
    "        if data[1] == '6':\n",
    "            print(data[0], data[2], data[3])"
   ]
  },
  {
   "cell_type": "markdown",
   "metadata": {},
   "source": [
    "### Getting help\n",
    "\n",
    "[The Python 3 Standard Library](https://docs.python.org/3/library/index.html) is the reference documentation of all libraries included in Python as well as built-in functions and data types.\n",
    "\n",
    "\n",
    "The Basic Python [Cheat Sheet](cheat_sheet_basic_python.ipynb) is a quick summary based on the course ['Introduction to solving biological problems with Python'](http://pycam.github.io/)."
   ]
  },
  {
   "cell_type": "code",
   "execution_count": null,
   "metadata": {},
   "outputs": [],
   "source": [
    "help(len)          # help on built-in function\n",
    "help(list.extend)  # help on list function"
   ]
  },
  {
   "cell_type": "code",
   "execution_count": null,
   "metadata": {},
   "outputs": [],
   "source": [
    "help(\"a string\".strip)"
   ]
  },
  {
   "cell_type": "markdown",
   "metadata": {},
   "source": [
    "To get help for the `split()` function, you can look at the [Python documentation]((https://docs.python.org/3/library/index.html)) and search for [`str.split()`](https://docs.python.org/3/library/stdtypes.html?highlight=split#str.split)"
   ]
  },
  {
   "cell_type": "code",
   "execution_count": null,
   "metadata": {},
   "outputs": [],
   "source": [
    "help(\"a string\".split)"
   ]
  },
  {
   "cell_type": "code",
   "execution_count": null,
   "metadata": {},
   "outputs": [],
   "source": [
    "# help within jupyter\n",
    "str.split?"
   ]
  },
  {
   "cell_type": "markdown",
   "metadata": {},
   "source": [
    "### Packages and modules"
   ]
  },
  {
   "cell_type": "markdown",
   "metadata": {},
   "source": [
    "A package is a collection of Python modules: while a module is a single Python file, a package is a directory of Python modules containing an additional __init__.py file.<br/>\n",
    "Some packages are part of the default python download (eg. : the statistics package), some need to be installed (eg. : the biopython package).\n",
    "<br/><br/>\n",
    "When a package is uploaded onto a PyPi archive you can install it by using pip in your bash : \n",
    "```bash\n",
    "pip install biopython\n",
    "```\n",
    "To use a package in a python script, you need to import it : "
   ]
  },
  {
   "cell_type": "code",
   "execution_count": null,
   "metadata": {},
   "outputs": [],
   "source": [
    "import statistics\n",
    "\n",
    "mean = statistics.mean([1, 2, 3, 4, 4])\n",
    "\n",
    "print(\"Mean = {0}\").format(mean))"
   ]
  },
  {
   "cell_type": "markdown",
   "metadata": {},
   "source": [
    "### Getting help from the official Python documentation\n",
    "\n",
    "The most useful information is online on https://www.python.org/ website and should  be used as a reference guide.\n",
    "\n",
    "- [Python3 documentation](https://docs.python.org/3/) is the starting page with links to tutorials and libraries' documentation for Python 3\n",
    "    - [The Python Tutorial](https://docs.python.org/3/tutorial/index.html)\n",
    "        - [Modules](https://docs.python.org/3/tutorial/modules.html)\n",
    "        - [Brief Tour of the Standard Library: Mathematics](https://docs.python.org/3/tutorial/stdlib.html#mathematics)\n",
    "    - [The Python Standard Library Reference](https://docs.python.org/3/library/index.html) is the reference documentation of all libraries included in Python like:\n",
    "        - [`statistics` - Mathematical statistics functions](https://docs.python.org/3/library/statistics.html)\n",
    "        - [`os.path` — Common pathname manipulations](https://docs.python.org/3/library/os.path.html)\n",
    "        - [`os` — Miscellaneous operating system interfaces](https://docs.python.org/3/library/os.html)\n",
    "        - [`csv` — CSV File Reading and Writing](https://docs.python.org/3/library/csv.html)"
   ]
  },
  {
   "cell_type": "markdown",
   "metadata": {},
   "source": [
    "## Exercise 1.2.1\n",
    "\n",
    "We are going to look at a [Gapminder](https://www.gapminder.org/) dataset, made famous by Hans Rosling from his Ted presentation [‘The best stats you’ve ever seen’](http://www.ted.com/talks/hans_rosling_shows_the_best_stats_you_ve_ever_seen).\n",
    "\n",
    "- Read data from the file `data/gapminder.csv`.\n",
    "- Find which European countries have the largest population in 1957 and 2007.\n",
    "- Calculate the mean gdp per capita in Europe in 1962"
   ]
  },
  {
   "cell_type": "markdown",
   "metadata": {
    "slideshow": {
     "slide_type": "-"
    }
   },
   "source": [
    "## Next session\n",
    "\n",
    "Go to our next notebook: [Session 1.3: Creating functions to write reusable code](1-3_functions.ipynb)"
   ]
  }
 ],
 "metadata": {
  "celltoolbar": "Slideshow",
  "kernelspec": {
   "display_name": "Python 3",
   "language": "python",
   "name": "python3"
  },
  "language_info": {
   "codemirror_mode": {
    "name": "ipython",
    "version": 3
   },
   "file_extension": ".py",
   "mimetype": "text/x-python",
   "name": "python",
   "nbconvert_exporter": "python",
   "pygments_lexer": "ipython3",
   "version": "3.7.3"
  }
 },
 "nbformat": 4,
 "nbformat_minor": 1
}
