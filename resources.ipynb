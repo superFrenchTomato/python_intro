{
 "cells": [
  {
   "cell_type": "markdown",
   "metadata": {},
   "source": [
    "# Online resources"
   ]
  },
  {
   "cell_type": "markdown",
   "metadata": {},
   "source": [
    "- Documentations and tutorials from python and packages' websites\n",
    "    - Python: [documentation](https://docs.python.org/3/library/index.html) and [tutorial](https://docs.python.org/3/tutorial/index.html)\n",
    "    - Pandas: [documentation](http://pandas.pydata.org/pandas-docs/stable/) and [tutorials](http://pandas.pydata.org/pandas-docs/stable/tutorials.html)\n",
    "    - Matplotlib: [documentation](https://matplotlib.org/api/api_overview.html) and [tutorials](https://matplotlib.org/tutorials/index.html)\n",
    "    - Biopython: [documentation](https://biopython.org/wiki/Documentation), [API documentation](http://biopython.org/DIST/docs/api/) and [tutorial](http://biopython.org/DIST/docs/tutorial/Tutorial.html)\n",
    "- Courses: \n",
    "    - https://www.datacamp.com/\n",
    "    - https://www.edx.org/\n",
    "    - https://www.coursera.org/ (from Johns Hopkins University)\n",
    "    - https://www.codecademy.com/\n",
    "- Questions/answers:\n",
    "    - https://stackoverflow.com/\n",
    "    - https://www.biostars.org/\n",
    "    - https://bioinformatics.stackexchange.com/\n",
    "    - https://twitter.com"
   ]
  }
 ],
 "metadata": {
  "kernelspec": {
   "display_name": "Python 3",
   "language": "python",
   "name": "python3"
  },
  "language_info": {
   "codemirror_mode": {
    "name": "ipython",
    "version": 3
   },
   "file_extension": ".py",
   "mimetype": "text/x-python",
   "name": "python",
   "nbconvert_exporter": "python",
   "pygments_lexer": "ipython3",
   "version": "3.6.4"
  }
 },
 "nbformat": 4,
 "nbformat_minor": 2
}
